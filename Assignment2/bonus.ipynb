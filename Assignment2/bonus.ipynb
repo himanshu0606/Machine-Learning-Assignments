{
 "cells": [
  {
   "cell_type": "code",
   "execution_count": 10,
   "id": "44fea496",
   "metadata": {},
   "outputs": [],
   "source": [
    "import numpy as np;\n",
    "import pandas as pd\n",
    "import pickle\n",
    "from sklearn import linear_model"
   ]
  },
  {
   "cell_type": "code",
   "execution_count": 11,
   "id": "7c944d68",
   "metadata": {},
   "outputs": [],
   "source": [
    "train_dataset=pd.read_pickle(\"capacitor_dataset.pickle\")"
   ]
  },
  {
   "cell_type": "code",
   "execution_count": 12,
   "id": "46c7dc48",
   "metadata": {},
   "outputs": [
    {
     "data": {
      "text/plain": [
       "array([[1.00000000e+00, 2.04682688e-04],\n",
       "       [2.00000000e+00, 1.67580012e-04],\n",
       "       [3.00000000e+00, 1.37202909e-04],\n",
       "       ...,\n",
       "       [9.98000000e+02, 5.16132754e-91],\n",
       "       [9.99000000e+02, 4.22573759e-91],\n",
       "       [1.00000000e+03, 3.45974132e-91]])"
      ]
     },
     "execution_count": 12,
     "metadata": {},
     "output_type": "execute_result"
    }
   ],
   "source": [
    "train_dataset"
   ]
  },
  {
   "cell_type": "code",
   "execution_count": 13,
   "id": "2d296387",
   "metadata": {},
   "outputs": [],
   "source": [
    "time=train_dataset[:,0]\n",
    "charge=train_dataset[:,1]\n",
    "time=np.array(time).reshape(-1,1)\n",
    "charge=np.array(charge).reshape(-1,1)\n",
    "charge=np.log(charge).reshape(-1,1)"
   ]
  },
  {
   "cell_type": "code",
   "execution_count": 14,
   "id": "bb66b507",
   "metadata": {},
   "outputs": [
    {
     "name": "stdout",
     "output_type": "stream",
     "text": [
      "[[-8.29404964]]\n",
      "[[-0.2]]\n"
     ]
    }
   ],
   "source": [
    "model=linear_model.LinearRegression().fit(time,charge)\n",
    "slope=model.coef_\n",
    "intercept=(model.intercept_).reshape(-1,1)\n",
    "print(intercept)\n",
    "print(slope)"
   ]
  },
  {
   "cell_type": "code",
   "execution_count": 15,
   "id": "f0fbb6ee",
   "metadata": {},
   "outputs": [
    {
     "name": "stdout",
     "output_type": "stream",
     "text": [
      "4.999999999999059e-05\n"
     ]
    }
   ],
   "source": [
    "cap=np.exp(intercept)\n",
    "cap=cap[0][0]/5\n",
    "print(cap)"
   ]
  },
  {
   "cell_type": "code",
   "execution_count": 16,
   "id": "d3367a37",
   "metadata": {},
   "outputs": [],
   "source": [
    "res=cap*slope\n"
   ]
  },
  {
   "cell_type": "code",
   "execution_count": 17,
   "id": "6321338d",
   "metadata": {},
   "outputs": [],
   "source": [
    "res=-1/(res[0][0])"
   ]
  },
  {
   "cell_type": "code",
   "execution_count": 18,
   "id": "65b168c5",
   "metadata": {},
   "outputs": [
    {
     "data": {
      "text/plain": [
       "100000.00000001898"
      ]
     },
     "execution_count": 18,
     "metadata": {},
     "output_type": "execute_result"
    }
   ],
   "source": [
    "res"
   ]
  }
 ],
 "metadata": {
  "kernelspec": {
   "display_name": "Python 3 (ipykernel)",
   "language": "python",
   "name": "python3"
  },
  "language_info": {
   "codemirror_mode": {
    "name": "ipython",
    "version": 3
   },
   "file_extension": ".py",
   "mimetype": "text/x-python",
   "name": "python",
   "nbconvert_exporter": "python",
   "pygments_lexer": "ipython3",
   "version": "3.9.6"
  }
 },
 "nbformat": 4,
 "nbformat_minor": 5
}
